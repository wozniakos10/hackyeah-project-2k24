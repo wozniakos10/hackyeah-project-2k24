{
 "cells": [
  {
   "cell_type": "code",
   "id": "initial_id",
   "metadata": {
    "collapsed": true,
    "ExecuteTime": {
     "end_time": "2024-09-28T19:39:59.822950Z",
     "start_time": "2024-09-28T19:39:59.685267Z"
    }
   },
   "source": [
    "import pandas as pd\n",
    "from sklearn.model_selection import train_test_split\n",
    "from sklearn.preprocessing import StandardScaler\n",
    "from sklearn.metrics import accuracy_score\n",
    "import matplotlib.pyplot as plt\n",
    "import xgboost as xgb\n",
    "import seaborn as sns\n",
    "from sklearn.metrics import confusion_matrix\n",
    "\n",
    "# Dane wejściowe\n",
    "output_mapper = {0: \"pauza/przerywnik\", 1: \"nic\"}\n",
    "data = {\n",
    "    \"HY_2024_film_07.wav\": (3372, 0.11376518218623481, 4, 1),\n",
    "    \"HY_2024_film_16.wav\": (4575, 0.16130738311825682, 2, 0),\n",
    "    \"HY_2024_film_02.wav\": (511, 0.0217706203135651, 1, 0),\n",
    "    \"HY_2024_film_12.wav\": (0, 0.0, 0, 0),\n",
    "    \"HY_2024_film_11.wav\": (1853, 0.061357615894039735, 2, 1),\n",
    "    \"HY_2024_film_14.wav\": (596, 0.019377702636798128, 1, 1),\n",
    "    \"HY_2024_film_15.wav\": (0, 0.0, 0, 1),\n",
    "    \"HY_2024_film_04.wav\": (0, 0.0, 0, 1),\n",
    "    \"HY_2024_film_03.wav\": (0, 0.0, 0, 0),\n",
    "    \"HY_2024_film_08.wav\": (2353, 0.1286706403456007, 3, 0),\n",
    "    \"HY_2024_film_13.wav\": (4684, 0.22500840659076715, 2, 0),\n",
    "    \"HY_2024_film_10.wav\": (3074, 0.09112468133040849, 5, 1),\n",
    "    \"HY_2024_film_05.wav\": (570, 0.023482882214806575, 1, 0),\n",
    "    \"HY_2024_film_06.wav\": (0, 0.0, 0, 1),\n",
    "    \"HY_2024_film_19.wav\": (6649, 0.17976586368183417, 3, 0),\n",
    "    \"HY_2024_film_01.wav\": (786, 0.03812018041612105, 1, 0),\n",
    "    \"HY_2024_film_17.wav\": (3790, 0.10083541744266482, 3, 1),\n",
    "    \"HY_2024_film_09.wav\": (0, 0.0, 0, 1),\n",
    "    \"HY_2024_film_20.wav\": (0, 0.0, 0, 1),\n",
    "    \"HY_2024_film_18.wav\": (4400, 0.14193548387096774, 3, 0)\n",
    "}\n",
    "\n",
    "# Tworzymy DataFrame z danych\n",
    "df = pd.DataFrame.from_dict(data, orient='index', columns=['pause_sum', 'pause_percent', 'amount_of_pauses', 'predicted_class'])\n",
    "\n",
    "# Resetowanie indeksu, aby mieć nazwę pliku jako kolumnę\n",
    "df.reset_index(inplace=True)\n",
    "\n",
    "# Zmieniamy nazwę kolumny 'index' na 'file_name'\n",
    "df.rename(columns={'index': 'file_name'}, inplace=True)\n",
    "\n",
    "# Wyświetlamy ramkę danych\n",
    "print(\"Dane wejściowe:\")\n",
    "print(df)\n",
    "\n",
    "# Krok 1: Przygotowanie danych\n",
    "# Usunięcie kolumny 'file_name', która nie jest potrzebna do trenowania\n",
    "X = df.drop(columns=['file_name', 'predicted_class'])  # Features\n",
    "y = df['predicted_class']  # Target (Etykiety)\n",
    "\n",
    "# Krok 2: Podział na zbiór treningowy i testowy\n",
    "X_train, X_test, y_train, y_test = train_test_split(X, y, test_size=0.2, random_state=40)\n",
    "\n",
    "# Krok 3: Normalizacja danych (opcjonalne, ale często pomocne)\n",
    "scaler = StandardScaler()\n",
    "X_train_scaled = scaler.fit_transform(X_train)\n",
    "X_test_scaled = scaler.transform(X_test)\n",
    "\n"
   ],
   "outputs": [
    {
     "name": "stdout",
     "output_type": "stream",
     "text": [
      "Dane wejściowe:\n",
      "              file_name  pause_sum  pause_percent  amount_of_pauses  \\\n",
      "0   HY_2024_film_07.wav       3372       0.113765                 4   \n",
      "1   HY_2024_film_16.wav       4575       0.161307                 2   \n",
      "2   HY_2024_film_02.wav        511       0.021771                 1   \n",
      "3   HY_2024_film_12.wav          0       0.000000                 0   \n",
      "4   HY_2024_film_11.wav       1853       0.061358                 2   \n",
      "5   HY_2024_film_14.wav        596       0.019378                 1   \n",
      "6   HY_2024_film_15.wav          0       0.000000                 0   \n",
      "7   HY_2024_film_04.wav          0       0.000000                 0   \n",
      "8   HY_2024_film_03.wav          0       0.000000                 0   \n",
      "9   HY_2024_film_08.wav       2353       0.128671                 3   \n",
      "10  HY_2024_film_13.wav       4684       0.225008                 2   \n",
      "11  HY_2024_film_10.wav       3074       0.091125                 5   \n",
      "12  HY_2024_film_05.wav        570       0.023483                 1   \n",
      "13  HY_2024_film_06.wav          0       0.000000                 0   \n",
      "14  HY_2024_film_19.wav       6649       0.179766                 3   \n",
      "15  HY_2024_film_01.wav        786       0.038120                 1   \n",
      "16  HY_2024_film_17.wav       3790       0.100835                 3   \n",
      "17  HY_2024_film_09.wav          0       0.000000                 0   \n",
      "18  HY_2024_film_20.wav          0       0.000000                 0   \n",
      "19  HY_2024_film_18.wav       4400       0.141935                 3   \n",
      "\n",
      "    predicted_class  \n",
      "0                 1  \n",
      "1                 0  \n",
      "2                 0  \n",
      "3                 0  \n",
      "4                 1  \n",
      "5                 1  \n",
      "6                 1  \n",
      "7                 1  \n",
      "8                 0  \n",
      "9                 0  \n",
      "10                0  \n",
      "11                1  \n",
      "12                0  \n",
      "13                1  \n",
      "14                0  \n",
      "15                0  \n",
      "16                1  \n",
      "17                1  \n",
      "18                1  \n",
      "19                0  \n"
     ]
    }
   ],
   "execution_count": 3
  },
  {
   "metadata": {
    "ExecuteTime": {
     "end_time": "2024-09-28T18:51:37.556354Z",
     "start_time": "2024-09-28T18:51:36.391970Z"
    }
   },
   "cell_type": "code",
   "source": [
    "# Krok 4: Trenowanie modelu XGBoost\n",
    "model = xgb.XGBClassifier(use_label_encoder=False, eval_metric='mlogloss')\n",
    "model.fit(X_train_scaled, y_train)\n",
    "\n",
    "# Krok 5: Predykcja na zbiorze testowym\n",
    "y_pred = model.predict(X_test_scaled)\n",
    "\n",
    "# Krok 6: Ocena modelu\n",
    "accuracy = accuracy_score(y_test, y_pred)\n",
    "print(f'Accuracy of the model: {accuracy * 100:.2f}%')\n",
    "\n",
    "# Dodatkowe kroki:\n",
    "# Jeżeli chcesz zapisać model lub predykcje, możesz to zrobić tak:\n",
    "# np. zapisywanie predykcji\n",
    "df_predictions = pd.DataFrame({'file_name': df['file_name'].iloc[X_test.index], 'predicted_class': y_pred})\n",
    "print(\"Predictions:\")\n",
    "print(df_predictions)"
   ],
   "id": "567f4c759d969514",
   "outputs": [
    {
     "name": "stderr",
     "output_type": "stream",
     "text": [
      "/home/dawid/Python_projects/hackyeah-project-2k24/.venv/lib/python3.11/site-packages/xgboost/core.py:158: UserWarning: [20:51:36] WARNING: /workspace/src/learner.cc:740: \n",
      "Parameters: { \"use_label_encoder\" } are not used.\n",
      "\n",
      "  warnings.warn(smsg, UserWarning)\n"
     ]
    },
    {
     "name": "stdout",
     "output_type": "stream",
     "text": [
      "Accuracy of the model: 75.00%\n",
      "Predictions:\n",
      "              file_name  predicted_class\n",
      "9   HY_2024_film_08.wav                0\n",
      "19  HY_2024_film_18.wav                0\n",
      "13  HY_2024_film_06.wav                1\n",
      "4   HY_2024_film_11.wav                0\n"
     ]
    }
   ],
   "execution_count": 6
  },
  {
   "metadata": {
    "ExecuteTime": {
     "end_time": "2024-09-28T18:51:37.892722Z",
     "start_time": "2024-09-28T18:51:37.588558Z"
    }
   },
   "cell_type": "code",
   "source": [
    "cm = confusion_matrix(y_test, y_pred)\n",
    "\n",
    "# Krok 6: Wizualizacja macierzy klasyfikacji\n",
    "plt.figure(figsize=(8,6))\n",
    "sns.heatmap(cm, annot=True, fmt='d', cmap='Blues', cbar=False)\n",
    "plt.xlabel('Predicted')\n",
    "plt.ylabel('Actual')\n",
    "plt.title('Confusion Matrix')\n",
    "plt.show()"
   ],
   "id": "6b3ecf1708bde35a",
   "outputs": [
    {
     "data": {
      "text/plain": [
       "<Figure size 800x600 with 1 Axes>"
      ],
      "image/png": "[encoded data removed]"
     },
     "metadata": {},
     "output_type": "display_data"
    }
   ],
   "execution_count": 7
  },
  {
   "metadata": {
    "ExecuteTime": {
     "end_time": "2024-09-28T19:09:49.245038Z",
     "start_time": "2024-09-28T19:09:48.190128Z"
    }
   },
   "cell_type": "code",
   "source": [
    "import joblib\n",
    "# Retraining model on full dataset\n",
    "X_scaled = scaler.fit_transform(X)\n",
    "# Krok 3: Trenowanie modelu XGBoost na całym zbiorze danych\n",
    "model = xgb.XGBClassifier(use_label_encoder=False, eval_metric='mlogloss')\n",
    "model.fit(X_scaled, y)\n",
    "\n",
    "# Krok 4: Zapisanie modelu lokalnie\n",
    "model_filename = 'xgboost_model.pkl'\n",
    "joblib.dump(model, model_filename)\n",
    "\n",
    "# Krok 5: Opcjonalne wyświetlenie podsumowania modelu\n",
    "print(f'Model został zapisany w pliku: {model_filename}')\n",
    "scaler_filename = 'scaler.pkl'\n",
    "joblib.dump(scaler, scaler_filename)"
   ],
   "id": "7e11351256edc520",
   "outputs": [
    {
     "name": "stderr",
     "output_type": "stream",
     "text": [
      "/home/dawid/Python_projects/hackyeah-project-2k24/.venv/lib/python3.11/site-packages/xgboost/core.py:158: UserWarning: [21:09:48] WARNING: /workspace/src/learner.cc:740: \n",
      "Parameters: { \"use_label_encoder\" } are not used.\n",
      "\n",
      "  warnings.warn(smsg, UserWarning)\n"
     ]
    },
    {
     "name": "stdout",
     "output_type": "stream",
     "text": [
      "Model został zapisany w pliku: xgboost_model.pkl\n"
     ]
    },
    {
     "data": {
      "text/plain": [
       "['scaler.pkl']"
      ]
     },
     "execution_count": 10,
     "metadata": {},
     "output_type": "execute_result"
    }
   ],
   "execution_count": 10
  },
  {
   "metadata": {
    "ExecuteTime": {
     "end_time": "2024-09-28T19:40:06.139716Z",
     "start_time": "2024-09-28T19:40:06.135961Z"
    }
   },
   "cell_type": "code",
   "source": [
    "from  hackyeah_project_lib.models.xgboost_class import xgboostclass\n",
    "from  hackyeah_project_lib.audio_processing.audio_features import PauseDetection\n"
   ],
   "id": "6821c05087db75c6",
   "outputs": [],
   "execution_count": 4
  },
  {
   "metadata": {
    "ExecuteTime": {
     "end_time": "2024-09-28T19:40:07.470001Z",
     "start_time": "2024-09-28T19:40:07.266001Z"
    }
   },
   "cell_type": "code",
   "source": [
    "model = xgboostclass(model_path = 'xgboost_model.pkl', scaler_path = 'scaler.pkl')\n",
    "converter = PauseDetection(path = \"/home/dawid/Python_projects/hackyeah-project-2k24/data/wetransfer_hackyeah-2024-breakwordtraps_2024-09-28_0449/HY_2024_film_08.wav\")"
   ],
   "id": "f8ccd9abd8c3f947",
   "outputs": [],
   "execution_count": 5
  },
  {
   "metadata": {},
   "cell_type": "code",
   "outputs": [],
   "execution_count": null,
   "source": "",
   "id": "ff49749ca91331ab"
  },
  {
   "metadata": {
    "ExecuteTime": {
     "end_time": "2024-09-28T19:40:10.597928Z",
     "start_time": "2024-09-28T19:40:09.093272Z"
    }
   },
   "cell_type": "code",
   "source": [
    "data = converter.pause_interval()\n",
    "model.predict(data)"
   ],
   "id": "9d8a2bd016b1794f",
   "outputs": [
    {
     "name": "stdout",
     "output_type": "stream",
     "text": [
      "[[0, 10943], [17680, 18134], [18758, 19615], [28188, 29230]]\n",
      "Predykcje: [0]\n"
     ]
    },
    {
     "data": {
      "text/plain": [
       "0"
      ]
     },
     "execution_count": 6,
     "metadata": {},
     "output_type": "execute_result"
    }
   ],
   "execution_count": 6
  },
  {
   "metadata": {
    "ExecuteTime": {
     "end_time": "2024-09-28T19:27:22.490237Z",
     "start_time": "2024-09-28T19:27:22.482597Z"
    }
   },
   "cell_type": "code",
   "source": "",
   "id": "13163d75e3817b75",
   "outputs": [
    {
     "data": {
      "text/plain": [
       "array([0])"
      ]
     },
     "execution_count": 22,
     "metadata": {},
     "output_type": "execute_result"
    }
   ],
   "execution_count": 22
  },
  {
   "metadata": {},
   "cell_type": "code",
   "outputs": [],
   "execution_count": null,
   "source": "",
   "id": "643705b8d929c841"
  }
 ],
 "metadata": {
  "kernelspec": {
   "display_name": "Python 3",
   "language": "python",
   "name": "python3"
  },
  "language_info": {
   "codemirror_mode": {
    "name": "ipython",
    "version": 2
   },
   "file_extension": ".py",
   "mimetype": "text/x-python",
   "name": "python",
   "nbconvert_exporter": "python",
   "pygments_lexer": "ipython2",
   "version": "2.7.6"
  }
 },
 "nbformat": 4,
 "nbformat_minor": 5
}
